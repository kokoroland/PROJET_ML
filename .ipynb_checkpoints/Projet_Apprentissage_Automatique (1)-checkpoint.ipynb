{
 "cells": [
  {
   "cell_type": "markdown",
   "metadata": {
    "id": "w0OlYlSYNNGT"
   },
   "source": [
    "<div style=\"width: 90%; margin: auto; background-color: #e74c3c; padding: 20px; border-radius: 0 12px 12px 12px; box-shadow: 0 4px 8px rgba(0, 0, 0, 0.3); color: #ffffff; text-align: center; font-style: italic;\" markdown=\"1\">\n",
    "    <span style=\"font-style: italic; font-size: 40px; font-weight: bold; \"> PROJET MACHINE LEARNING</span>\n",
    "</div>\n"
   ]
  },
  {
   "cell_type": "markdown",
   "metadata": {},
   "source": [
    "# Analyse exploratoire des données\n",
    "\n",
    "\n",
    "## objectif :\n",
    "#### - comprendre du mieux possible nos donnees \n",
    "#### - Developper une premiere strategie de modelisation "
   ]
  },
  {
   "cell_type": "markdown",
   "metadata": {},
   "source": [
    "<div style=\"width: 90%; margin: auto; padding: 10px; background-color: #ecf0f1; border-radius: 0 12px 12px 12px; text-align: center; box-shadow: 0 4px 8px rgba(0, 0, 0, 0.3);\" markdown=\"1\">\n",
    "    <h2 style=\"color: darkblue; font-size: 30px\"><strong>Breakdown of this notebook:</strong></h2>\n",
    "</div>\n",
    "\n",
    "<div style=\"width: 90%; margin: auto; background-color: #ecf0f1; border-radius: 0 12px 12px 12px; text-align: left; box-shadow: 0 4px 8px rgba(0, 0, 0, 0.3);\" markdown=\"1\">\n",
    "<ol style=\"color: darkred; font-weight: bold; margin: 20px;\">\n",
    "    <li>Importing Libraries</li>\n",
    "    <li>Loading the dataset</li>\n",
    "    <li>Data Cleaning:\n",
    "        <ul>\n",
    "            <li>Deleting redundant columns.</li>\n",
    "            <li>Dropping duplicates.</li>\n",
    "            <li>Cleaning individual columns.</li>\n",
    "            <li>Remove the NaN values from the dataset.</li>\n",
    "        </ul>\n",
    "    </li>\n",
    "    <li>Some Transformations</li>\n",
    "    <li>Data Visualization:\n",
    "        <ul>\n",
    "            <li>Using plots to find relations between the features.</li>\n",
    "            <li>Get Correlation between different variables.</li>\n",
    "            <li>Plot all Neighbourhood Group.</li>\n",
    "            <li>Neighbourhood.</li>\n",
    "            <li>Room Type.</li>\n",
    "            <li>Relation between neighbourgroup and Availability of Room.</li>\n",
    "            <li>Map of Neighbourhood group.</li>\n",
    "            <li>Map of Neighbourhood.</li>\n",
    "            <li>Availability of room.</li>\n",
    "            <li>Word Cloud.</li>\n",
    "        </ul>\n",
    "    </li>\n",
    "    <li>Regression Analysis\n",
    "        <ul>\n",
    "            <li>Linear Regression</li>\n",
    "            <li>Decision Tree Regression</li>\n",
    "            <li>Random Forest Regression</li>\n",
    "        </ul>\n",
    "    </li>\n",
    "</ol>\n",
    "</div>"
   ]
  },
  {
   "cell_type": "markdown",
   "metadata": {},
   "source": [
    "#  Description de la Dataset\n",
    "Cette dataset rassemble des données de signaux biologiques élémentaires liées à la santé.\n",
    "L'objectif est de <strong> déterminer la présence ou l'absence de tabagisme à partir de ces signaux biologiques </strong>.\n",
    "Il s'agit d'identifier, à partir des signaux biologiques, <strong>si une personne fume ou non</strong>."
   ]
  },
  {
   "cell_type": "markdown",
   "metadata": {},
   "source": [
    "<div style=\"width: 90%; margin: auto; background-color: #e74c3c; padding: 20px; border-radius: 0 12px 12px 12px; box-shadow: 0 4px 8px rgba(0, 0, 0, 0.3); color: #ffffff; text-align: center; font-style: italic;\" markdown=\"1\">\n",
    "    <span style=\"font-style: italic; font-size: 30px; font-weight: bold; \">DATA OVERVIEW</span>\n",
    "</div>"
   ]
  },
  {
   "cell_type": "markdown",
   "metadata": {},
   "source": [
    "   ## importation des librairies"
   ]
  },
  {
   "cell_type": "code",
   "execution_count": 13,
   "metadata": {
    "id": "qCJkau-8qBFG"
   },
   "outputs": [],
   "source": [
    "import pandas as pd\n",
    "import numpy as np\n",
    "import matplotlib.pyplot as plt\n",
    "import seaborn as sns\n",
    "from pandas.plotting import scatter_matrix\n",
    "\n",
    "from sklearn.pipeline import Pipeline\n",
    "from sklearn.preprocessing import StandardScaler,MinMaxScaler\n",
    "from sklearn.impute import SimpleImputer\n",
    "\n",
    "from sklearn.cluster import KMeans\n",
    "from sklearn.decomposition import PCA\n",
    "from sklearn.preprocessing import LabelEncoder # for encoding\n",
    "from sklearn.preprocessing import MinMaxScaler, RobustScaler, StandardScaler \n",
    "from sklearn.model_selection import train_test_split, GridSearchCV, cross_val_score\n",
    "from sklearn.ensemble import RandomForestClassifier\n",
    "from sklearn.metrics import confusion_matrix, accuracy_score, classification_report\n"
   ]
  },
  {
   "cell_type": "markdown",
   "metadata": {},
   "source": [
    " ## importons notre Dataset"
   ]
  },
  {
   "cell_type": "code",
   "execution_count": 14,
   "metadata": {
    "colab": {
     "base_uri": "https://localhost:8080/",
     "height": 273
    },
    "id": "87MYedDI-2DN",
    "outputId": "f7c741ae-6335-413a-c0ee-d2ed0ff19980"
   },
   "outputs": [
    {
     "data": {
      "text/html": [
       "<div>\n",
       "<style scoped>\n",
       "    .dataframe tbody tr th:only-of-type {\n",
       "        vertical-align: middle;\n",
       "    }\n",
       "\n",
       "    .dataframe tbody tr th {\n",
       "        vertical-align: top;\n",
       "    }\n",
       "\n",
       "    .dataframe thead th {\n",
       "        text-align: right;\n",
       "    }\n",
       "</style>\n",
       "<table border=\"1\" class=\"dataframe\">\n",
       "  <thead>\n",
       "    <tr style=\"text-align: right;\">\n",
       "      <th></th>\n",
       "      <th>ID</th>\n",
       "      <th>gender</th>\n",
       "      <th>age</th>\n",
       "      <th>height(cm)</th>\n",
       "      <th>weight(kg)</th>\n",
       "      <th>waist(cm)</th>\n",
       "      <th>eyesight(left)</th>\n",
       "      <th>eyesight(right)</th>\n",
       "      <th>hearing(left)</th>\n",
       "      <th>hearing(right)</th>\n",
       "      <th>...</th>\n",
       "      <th>hemoglobin</th>\n",
       "      <th>Urine protein</th>\n",
       "      <th>serum creatinine</th>\n",
       "      <th>AST</th>\n",
       "      <th>ALT</th>\n",
       "      <th>Gtp</th>\n",
       "      <th>oral</th>\n",
       "      <th>dental caries</th>\n",
       "      <th>tartar</th>\n",
       "      <th>smoking</th>\n",
       "    </tr>\n",
       "  </thead>\n",
       "  <tbody>\n",
       "    <tr>\n",
       "      <th>0</th>\n",
       "      <td>0</td>\n",
       "      <td>F</td>\n",
       "      <td>40</td>\n",
       "      <td>155</td>\n",
       "      <td>60</td>\n",
       "      <td>81.3</td>\n",
       "      <td>1.2</td>\n",
       "      <td>1.0</td>\n",
       "      <td>1.0</td>\n",
       "      <td>1.0</td>\n",
       "      <td>...</td>\n",
       "      <td>12.9</td>\n",
       "      <td>1.0</td>\n",
       "      <td>0.7</td>\n",
       "      <td>18.0</td>\n",
       "      <td>19.0</td>\n",
       "      <td>27.0</td>\n",
       "      <td>Y</td>\n",
       "      <td>0</td>\n",
       "      <td>Y</td>\n",
       "      <td>0</td>\n",
       "    </tr>\n",
       "    <tr>\n",
       "      <th>1</th>\n",
       "      <td>1</td>\n",
       "      <td>F</td>\n",
       "      <td>40</td>\n",
       "      <td>160</td>\n",
       "      <td>60</td>\n",
       "      <td>81.0</td>\n",
       "      <td>0.8</td>\n",
       "      <td>0.6</td>\n",
       "      <td>1.0</td>\n",
       "      <td>1.0</td>\n",
       "      <td>...</td>\n",
       "      <td>12.7</td>\n",
       "      <td>1.0</td>\n",
       "      <td>0.6</td>\n",
       "      <td>22.0</td>\n",
       "      <td>19.0</td>\n",
       "      <td>18.0</td>\n",
       "      <td>Y</td>\n",
       "      <td>0</td>\n",
       "      <td>Y</td>\n",
       "      <td>0</td>\n",
       "    </tr>\n",
       "    <tr>\n",
       "      <th>2</th>\n",
       "      <td>2</td>\n",
       "      <td>M</td>\n",
       "      <td>55</td>\n",
       "      <td>170</td>\n",
       "      <td>60</td>\n",
       "      <td>80.0</td>\n",
       "      <td>0.8</td>\n",
       "      <td>0.8</td>\n",
       "      <td>1.0</td>\n",
       "      <td>1.0</td>\n",
       "      <td>...</td>\n",
       "      <td>15.8</td>\n",
       "      <td>1.0</td>\n",
       "      <td>1.0</td>\n",
       "      <td>21.0</td>\n",
       "      <td>16.0</td>\n",
       "      <td>22.0</td>\n",
       "      <td>Y</td>\n",
       "      <td>0</td>\n",
       "      <td>N</td>\n",
       "      <td>1</td>\n",
       "    </tr>\n",
       "    <tr>\n",
       "      <th>3</th>\n",
       "      <td>3</td>\n",
       "      <td>M</td>\n",
       "      <td>40</td>\n",
       "      <td>165</td>\n",
       "      <td>70</td>\n",
       "      <td>88.0</td>\n",
       "      <td>1.5</td>\n",
       "      <td>1.5</td>\n",
       "      <td>1.0</td>\n",
       "      <td>1.0</td>\n",
       "      <td>...</td>\n",
       "      <td>14.7</td>\n",
       "      <td>1.0</td>\n",
       "      <td>1.0</td>\n",
       "      <td>19.0</td>\n",
       "      <td>26.0</td>\n",
       "      <td>18.0</td>\n",
       "      <td>Y</td>\n",
       "      <td>0</td>\n",
       "      <td>Y</td>\n",
       "      <td>0</td>\n",
       "    </tr>\n",
       "    <tr>\n",
       "      <th>4</th>\n",
       "      <td>4</td>\n",
       "      <td>F</td>\n",
       "      <td>40</td>\n",
       "      <td>155</td>\n",
       "      <td>60</td>\n",
       "      <td>86.0</td>\n",
       "      <td>1.0</td>\n",
       "      <td>1.0</td>\n",
       "      <td>1.0</td>\n",
       "      <td>1.0</td>\n",
       "      <td>...</td>\n",
       "      <td>12.5</td>\n",
       "      <td>1.0</td>\n",
       "      <td>0.6</td>\n",
       "      <td>16.0</td>\n",
       "      <td>14.0</td>\n",
       "      <td>22.0</td>\n",
       "      <td>Y</td>\n",
       "      <td>0</td>\n",
       "      <td>N</td>\n",
       "      <td>0</td>\n",
       "    </tr>\n",
       "  </tbody>\n",
       "</table>\n",
       "<p>5 rows × 27 columns</p>\n",
       "</div>"
      ],
      "text/plain": [
       "   ID gender  age  height(cm)  weight(kg)  waist(cm)  eyesight(left)  \\\n",
       "0   0      F   40         155          60       81.3             1.2   \n",
       "1   1      F   40         160          60       81.0             0.8   \n",
       "2   2      M   55         170          60       80.0             0.8   \n",
       "3   3      M   40         165          70       88.0             1.5   \n",
       "4   4      F   40         155          60       86.0             1.0   \n",
       "\n",
       "   eyesight(right)  hearing(left)  hearing(right)  ...  hemoglobin  \\\n",
       "0              1.0            1.0             1.0  ...        12.9   \n",
       "1              0.6            1.0             1.0  ...        12.7   \n",
       "2              0.8            1.0             1.0  ...        15.8   \n",
       "3              1.5            1.0             1.0  ...        14.7   \n",
       "4              1.0            1.0             1.0  ...        12.5   \n",
       "\n",
       "   Urine protein  serum creatinine   AST   ALT   Gtp  oral  dental caries  \\\n",
       "0            1.0               0.7  18.0  19.0  27.0     Y              0   \n",
       "1            1.0               0.6  22.0  19.0  18.0     Y              0   \n",
       "2            1.0               1.0  21.0  16.0  22.0     Y              0   \n",
       "3            1.0               1.0  19.0  26.0  18.0     Y              0   \n",
       "4            1.0               0.6  16.0  14.0  22.0     Y              0   \n",
       "\n",
       "   tartar  smoking  \n",
       "0       Y        0  \n",
       "1       Y        0  \n",
       "2       N        1  \n",
       "3       Y        0  \n",
       "4       N        0  \n",
       "\n",
       "[5 rows x 27 columns]"
      ]
     },
     "execution_count": 14,
     "metadata": {},
     "output_type": "execute_result"
    }
   ],
   "source": [
    "df1 = pd.read_csv('smoking.csv')\n",
    "df = df1.copy()\n",
    "df.head()"
   ]
  },
  {
   "cell_type": "markdown",
   "metadata": {},
   "source": [
    " ## Analyse de la forme des donnees "
   ]
  },
  {
   "cell_type": "code",
   "execution_count": 7,
   "metadata": {},
   "outputs": [
    {
     "data": {
      "text/plain": [
       "(55692, 27)"
      ]
     },
     "execution_count": 7,
     "metadata": {},
     "output_type": "execute_result"
    }
   ],
   "source": [
    "# Dimension de la Dataset\n",
    "df.shape"
   ]
  },
  {
   "cell_type": "markdown",
   "metadata": {},
   "source": [
    "La dataset contient 55692 lignes et  27 colones, ce qui respecte les contraintes du projet"
   ]
  },
  {
   "cell_type": "code",
   "execution_count": 8,
   "metadata": {},
   "outputs": [
    {
     "data": {
      "text/plain": [
       "Index(['ID', 'gender', 'age', 'height(cm)', 'weight(kg)', 'waist(cm)',\n",
       "       'eyesight(left)', 'eyesight(right)', 'hearing(left)', 'hearing(right)',\n",
       "       'systolic', 'relaxation', 'fasting blood sugar', 'Cholesterol',\n",
       "       'triglyceride', 'HDL', 'LDL', 'hemoglobin', 'Urine protein',\n",
       "       'serum creatinine', 'AST', 'ALT', 'Gtp', 'oral', 'dental caries',\n",
       "       'tartar', 'smoking'],\n",
       "      dtype='object')"
      ]
     },
     "execution_count": 8,
     "metadata": {},
     "output_type": "execute_result"
    }
   ],
   "source": [
    "# les colones de la dataset et la variable target\n",
    "df.columns.unique()"
   ]
  },
  {
   "cell_type": "code",
   "execution_count": 9,
   "metadata": {},
   "outputs": [
    {
     "name": "stdout",
     "output_type": "stream",
     "text": [
      "<class 'pandas.core.frame.DataFrame'>\n",
      "RangeIndex: 55692 entries, 0 to 55691\n",
      "Data columns (total 27 columns):\n",
      " #   Column               Non-Null Count  Dtype  \n",
      "---  ------               --------------  -----  \n",
      " 0   ID                   55692 non-null  int64  \n",
      " 1   gender               55692 non-null  object \n",
      " 2   age                  55692 non-null  int64  \n",
      " 3   height(cm)           55692 non-null  int64  \n",
      " 4   weight(kg)           55692 non-null  int64  \n",
      " 5   waist(cm)            55692 non-null  float64\n",
      " 6   eyesight(left)       55692 non-null  float64\n",
      " 7   eyesight(right)      55692 non-null  float64\n",
      " 8   hearing(left)        55692 non-null  float64\n",
      " 9   hearing(right)       55692 non-null  float64\n",
      " 10  systolic             55692 non-null  float64\n",
      " 11  relaxation           55692 non-null  float64\n",
      " 12  fasting blood sugar  55692 non-null  float64\n",
      " 13  Cholesterol          55692 non-null  float64\n",
      " 14  triglyceride         55692 non-null  float64\n",
      " 15  HDL                  55692 non-null  float64\n",
      " 16  LDL                  55692 non-null  float64\n",
      " 17  hemoglobin           55692 non-null  float64\n",
      " 18  Urine protein        55692 non-null  float64\n",
      " 19  serum creatinine     55692 non-null  float64\n",
      " 20  AST                  55692 non-null  float64\n",
      " 21  ALT                  55692 non-null  float64\n",
      " 22  Gtp                  55692 non-null  float64\n",
      " 23  oral                 55692 non-null  object \n",
      " 24  dental caries        55692 non-null  int64  \n",
      " 25  tartar               55692 non-null  object \n",
      " 26  smoking              55692 non-null  int64  \n",
      "dtypes: float64(18), int64(6), object(3)\n",
      "memory usage: 11.5+ MB\n"
     ]
    }
   ],
   "source": [
    "#information generale sur la dataset\n",
    "df.info()"
   ]
  },
  {
   "cell_type": "markdown",
   "metadata": {},
   "source": [
    "En analysant les colones on retrouve la variable target: <strong>\"smoking\"</strong>"
   ]
  },
  {
   "cell_type": "code",
   "execution_count": 10,
   "metadata": {
    "colab": {
     "base_uri": "https://localhost:8080/"
    },
    "id": "quxt8HN4NULj",
    "outputId": "eac560d5-a337-4847-fe00-2a5345a2cec9"
   },
   "outputs": [
    {
     "data": {
      "text/plain": [
       "float64    18\n",
       "int64       6\n",
       "object      3\n",
       "Name: count, dtype: int64"
      ]
     },
     "execution_count": 10,
     "metadata": {},
     "output_type": "execute_result"
    }
   ],
   "source": [
    "# identification des types de variables \n",
    "df.dtypes.value_counts()"
   ]
  },
  {
   "cell_type": "markdown",
   "metadata": {},
   "source": [
    "La dataset contient 18 variables de types ,<strong>float </strong>, 6 de type  <strong> int </strong> et 3 de type <strong>object</strong>"
   ]
  },
  {
   "cell_type": "code",
   "execution_count": 11,
   "metadata": {
    "colab": {
     "base_uri": "https://localhost:8080/",
     "height": 367
    },
    "id": "Agkkff1-A-wC",
    "outputId": "ca6ec2fc-cd81-4330-c51d-b39cfb061592"
   },
   "outputs": [
    {
     "data": {
      "text/html": [
       "<div>\n",
       "<style scoped>\n",
       "    .dataframe tbody tr th:only-of-type {\n",
       "        vertical-align: middle;\n",
       "    }\n",
       "\n",
       "    .dataframe tbody tr th {\n",
       "        vertical-align: top;\n",
       "    }\n",
       "\n",
       "    .dataframe thead th {\n",
       "        text-align: right;\n",
       "    }\n",
       "</style>\n",
       "<table border=\"1\" class=\"dataframe\">\n",
       "  <thead>\n",
       "    <tr style=\"text-align: right;\">\n",
       "      <th></th>\n",
       "      <th>ID</th>\n",
       "      <th>age</th>\n",
       "      <th>height(cm)</th>\n",
       "      <th>weight(kg)</th>\n",
       "      <th>waist(cm)</th>\n",
       "      <th>eyesight(left)</th>\n",
       "      <th>eyesight(right)</th>\n",
       "      <th>hearing(left)</th>\n",
       "      <th>hearing(right)</th>\n",
       "      <th>systolic</th>\n",
       "      <th>...</th>\n",
       "      <th>HDL</th>\n",
       "      <th>LDL</th>\n",
       "      <th>hemoglobin</th>\n",
       "      <th>Urine protein</th>\n",
       "      <th>serum creatinine</th>\n",
       "      <th>AST</th>\n",
       "      <th>ALT</th>\n",
       "      <th>Gtp</th>\n",
       "      <th>dental caries</th>\n",
       "      <th>smoking</th>\n",
       "    </tr>\n",
       "  </thead>\n",
       "  <tbody>\n",
       "    <tr>\n",
       "      <th>count</th>\n",
       "      <td>55692.000000</td>\n",
       "      <td>55692.000000</td>\n",
       "      <td>55692.000000</td>\n",
       "      <td>55692.000000</td>\n",
       "      <td>55692.000000</td>\n",
       "      <td>55692.000000</td>\n",
       "      <td>55692.000000</td>\n",
       "      <td>55692.000000</td>\n",
       "      <td>55692.000000</td>\n",
       "      <td>55692.000000</td>\n",
       "      <td>...</td>\n",
       "      <td>55692.000000</td>\n",
       "      <td>55692.000000</td>\n",
       "      <td>55692.000000</td>\n",
       "      <td>55692.000000</td>\n",
       "      <td>55692.000000</td>\n",
       "      <td>55692.000000</td>\n",
       "      <td>55692.000000</td>\n",
       "      <td>55692.000000</td>\n",
       "      <td>55692.000000</td>\n",
       "      <td>55692.000000</td>\n",
       "    </tr>\n",
       "    <tr>\n",
       "      <th>mean</th>\n",
       "      <td>27845.500000</td>\n",
       "      <td>44.182917</td>\n",
       "      <td>164.649321</td>\n",
       "      <td>65.864936</td>\n",
       "      <td>82.046418</td>\n",
       "      <td>1.012623</td>\n",
       "      <td>1.007443</td>\n",
       "      <td>1.025587</td>\n",
       "      <td>1.026144</td>\n",
       "      <td>121.494218</td>\n",
       "      <td>...</td>\n",
       "      <td>57.290347</td>\n",
       "      <td>114.964501</td>\n",
       "      <td>14.622592</td>\n",
       "      <td>1.087212</td>\n",
       "      <td>0.885738</td>\n",
       "      <td>26.182935</td>\n",
       "      <td>27.036037</td>\n",
       "      <td>39.952201</td>\n",
       "      <td>0.213334</td>\n",
       "      <td>0.367288</td>\n",
       "    </tr>\n",
       "    <tr>\n",
       "      <th>std</th>\n",
       "      <td>16077.039933</td>\n",
       "      <td>12.071418</td>\n",
       "      <td>9.194597</td>\n",
       "      <td>12.820306</td>\n",
       "      <td>9.274223</td>\n",
       "      <td>0.486873</td>\n",
       "      <td>0.485964</td>\n",
       "      <td>0.157902</td>\n",
       "      <td>0.159564</td>\n",
       "      <td>13.675989</td>\n",
       "      <td>...</td>\n",
       "      <td>14.738963</td>\n",
       "      <td>40.926476</td>\n",
       "      <td>1.564498</td>\n",
       "      <td>0.404882</td>\n",
       "      <td>0.221524</td>\n",
       "      <td>19.355460</td>\n",
       "      <td>30.947853</td>\n",
       "      <td>50.290539</td>\n",
       "      <td>0.409665</td>\n",
       "      <td>0.482070</td>\n",
       "    </tr>\n",
       "    <tr>\n",
       "      <th>min</th>\n",
       "      <td>0.000000</td>\n",
       "      <td>20.000000</td>\n",
       "      <td>130.000000</td>\n",
       "      <td>30.000000</td>\n",
       "      <td>51.000000</td>\n",
       "      <td>0.100000</td>\n",
       "      <td>0.100000</td>\n",
       "      <td>1.000000</td>\n",
       "      <td>1.000000</td>\n",
       "      <td>71.000000</td>\n",
       "      <td>...</td>\n",
       "      <td>4.000000</td>\n",
       "      <td>1.000000</td>\n",
       "      <td>4.900000</td>\n",
       "      <td>1.000000</td>\n",
       "      <td>0.100000</td>\n",
       "      <td>6.000000</td>\n",
       "      <td>1.000000</td>\n",
       "      <td>1.000000</td>\n",
       "      <td>0.000000</td>\n",
       "      <td>0.000000</td>\n",
       "    </tr>\n",
       "    <tr>\n",
       "      <th>25%</th>\n",
       "      <td>13922.750000</td>\n",
       "      <td>40.000000</td>\n",
       "      <td>160.000000</td>\n",
       "      <td>55.000000</td>\n",
       "      <td>76.000000</td>\n",
       "      <td>0.800000</td>\n",
       "      <td>0.800000</td>\n",
       "      <td>1.000000</td>\n",
       "      <td>1.000000</td>\n",
       "      <td>112.000000</td>\n",
       "      <td>...</td>\n",
       "      <td>47.000000</td>\n",
       "      <td>92.000000</td>\n",
       "      <td>13.600000</td>\n",
       "      <td>1.000000</td>\n",
       "      <td>0.800000</td>\n",
       "      <td>19.000000</td>\n",
       "      <td>15.000000</td>\n",
       "      <td>17.000000</td>\n",
       "      <td>0.000000</td>\n",
       "      <td>0.000000</td>\n",
       "    </tr>\n",
       "    <tr>\n",
       "      <th>50%</th>\n",
       "      <td>27845.500000</td>\n",
       "      <td>40.000000</td>\n",
       "      <td>165.000000</td>\n",
       "      <td>65.000000</td>\n",
       "      <td>82.000000</td>\n",
       "      <td>1.000000</td>\n",
       "      <td>1.000000</td>\n",
       "      <td>1.000000</td>\n",
       "      <td>1.000000</td>\n",
       "      <td>120.000000</td>\n",
       "      <td>...</td>\n",
       "      <td>55.000000</td>\n",
       "      <td>113.000000</td>\n",
       "      <td>14.800000</td>\n",
       "      <td>1.000000</td>\n",
       "      <td>0.900000</td>\n",
       "      <td>23.000000</td>\n",
       "      <td>21.000000</td>\n",
       "      <td>25.000000</td>\n",
       "      <td>0.000000</td>\n",
       "      <td>0.000000</td>\n",
       "    </tr>\n",
       "    <tr>\n",
       "      <th>75%</th>\n",
       "      <td>41768.250000</td>\n",
       "      <td>55.000000</td>\n",
       "      <td>170.000000</td>\n",
       "      <td>75.000000</td>\n",
       "      <td>88.000000</td>\n",
       "      <td>1.200000</td>\n",
       "      <td>1.200000</td>\n",
       "      <td>1.000000</td>\n",
       "      <td>1.000000</td>\n",
       "      <td>130.000000</td>\n",
       "      <td>...</td>\n",
       "      <td>66.000000</td>\n",
       "      <td>136.000000</td>\n",
       "      <td>15.800000</td>\n",
       "      <td>1.000000</td>\n",
       "      <td>1.000000</td>\n",
       "      <td>28.000000</td>\n",
       "      <td>31.000000</td>\n",
       "      <td>43.000000</td>\n",
       "      <td>0.000000</td>\n",
       "      <td>1.000000</td>\n",
       "    </tr>\n",
       "    <tr>\n",
       "      <th>max</th>\n",
       "      <td>55691.000000</td>\n",
       "      <td>85.000000</td>\n",
       "      <td>190.000000</td>\n",
       "      <td>135.000000</td>\n",
       "      <td>129.000000</td>\n",
       "      <td>9.900000</td>\n",
       "      <td>9.900000</td>\n",
       "      <td>2.000000</td>\n",
       "      <td>2.000000</td>\n",
       "      <td>240.000000</td>\n",
       "      <td>...</td>\n",
       "      <td>618.000000</td>\n",
       "      <td>1860.000000</td>\n",
       "      <td>21.100000</td>\n",
       "      <td>6.000000</td>\n",
       "      <td>11.600000</td>\n",
       "      <td>1311.000000</td>\n",
       "      <td>2914.000000</td>\n",
       "      <td>999.000000</td>\n",
       "      <td>1.000000</td>\n",
       "      <td>1.000000</td>\n",
       "    </tr>\n",
       "  </tbody>\n",
       "</table>\n",
       "<p>8 rows × 24 columns</p>\n",
       "</div>"
      ],
      "text/plain": [
       "                 ID           age    height(cm)    weight(kg)     waist(cm)  \\\n",
       "count  55692.000000  55692.000000  55692.000000  55692.000000  55692.000000   \n",
       "mean   27845.500000     44.182917    164.649321     65.864936     82.046418   \n",
       "std    16077.039933     12.071418      9.194597     12.820306      9.274223   \n",
       "min        0.000000     20.000000    130.000000     30.000000     51.000000   \n",
       "25%    13922.750000     40.000000    160.000000     55.000000     76.000000   \n",
       "50%    27845.500000     40.000000    165.000000     65.000000     82.000000   \n",
       "75%    41768.250000     55.000000    170.000000     75.000000     88.000000   \n",
       "max    55691.000000     85.000000    190.000000    135.000000    129.000000   \n",
       "\n",
       "       eyesight(left)  eyesight(right)  hearing(left)  hearing(right)  \\\n",
       "count    55692.000000     55692.000000   55692.000000    55692.000000   \n",
       "mean         1.012623         1.007443       1.025587        1.026144   \n",
       "std          0.486873         0.485964       0.157902        0.159564   \n",
       "min          0.100000         0.100000       1.000000        1.000000   \n",
       "25%          0.800000         0.800000       1.000000        1.000000   \n",
       "50%          1.000000         1.000000       1.000000        1.000000   \n",
       "75%          1.200000         1.200000       1.000000        1.000000   \n",
       "max          9.900000         9.900000       2.000000        2.000000   \n",
       "\n",
       "           systolic  ...           HDL           LDL    hemoglobin  \\\n",
       "count  55692.000000  ...  55692.000000  55692.000000  55692.000000   \n",
       "mean     121.494218  ...     57.290347    114.964501     14.622592   \n",
       "std       13.675989  ...     14.738963     40.926476      1.564498   \n",
       "min       71.000000  ...      4.000000      1.000000      4.900000   \n",
       "25%      112.000000  ...     47.000000     92.000000     13.600000   \n",
       "50%      120.000000  ...     55.000000    113.000000     14.800000   \n",
       "75%      130.000000  ...     66.000000    136.000000     15.800000   \n",
       "max      240.000000  ...    618.000000   1860.000000     21.100000   \n",
       "\n",
       "       Urine protein  serum creatinine           AST           ALT  \\\n",
       "count   55692.000000      55692.000000  55692.000000  55692.000000   \n",
       "mean        1.087212          0.885738     26.182935     27.036037   \n",
       "std         0.404882          0.221524     19.355460     30.947853   \n",
       "min         1.000000          0.100000      6.000000      1.000000   \n",
       "25%         1.000000          0.800000     19.000000     15.000000   \n",
       "50%         1.000000          0.900000     23.000000     21.000000   \n",
       "75%         1.000000          1.000000     28.000000     31.000000   \n",
       "max         6.000000         11.600000   1311.000000   2914.000000   \n",
       "\n",
       "                Gtp  dental caries       smoking  \n",
       "count  55692.000000   55692.000000  55692.000000  \n",
       "mean      39.952201       0.213334      0.367288  \n",
       "std       50.290539       0.409665      0.482070  \n",
       "min        1.000000       0.000000      0.000000  \n",
       "25%       17.000000       0.000000      0.000000  \n",
       "50%       25.000000       0.000000      0.000000  \n",
       "75%       43.000000       0.000000      1.000000  \n",
       "max      999.000000       1.000000      1.000000  \n",
       "\n",
       "[8 rows x 24 columns]"
      ]
     },
     "execution_count": 11,
     "metadata": {},
     "output_type": "execute_result"
    }
   ],
   "source": [
    "# description statistique\n",
    "df.describe()"
   ]
  },
  {
   "cell_type": "markdown",
   "metadata": {
    "id": "8DWHCHmwzs96"
   },
   "source": []
  },
  {
   "cell_type": "code",
   "execution_count": 12,
   "metadata": {
    "colab": {
     "base_uri": "https://localhost:8080/"
    },
    "id": "BjP0u68DWIzl",
    "outputId": "a18d85eb-eb82-496c-e7f1-e77dadaa8f9d"
   },
   "outputs": [
    {
     "ename": "NameError",
     "evalue": "name 'categorical_cols' is not defined",
     "output_type": "error",
     "traceback": [
      "\u001b[1;31m---------------------------------------------------------------------------\u001b[0m",
      "\u001b[1;31mNameError\u001b[0m                                 Traceback (most recent call last)",
      "Cell \u001b[1;32mIn[12], line 1\u001b[0m\n\u001b[1;32m----> 1\u001b[0m df[categorical_cols]\u001b[38;5;241m.\u001b[39mnunique()\n",
      "\u001b[1;31mNameError\u001b[0m: name 'categorical_cols' is not defined"
     ]
    }
   ],
   "source": [
    "df[categorical_cols].nunique()"
   ]
  },
  {
   "cell_type": "markdown",
   "metadata": {},
   "source": [
    " Les variables categorielles sont : <strong>\"gender\", \"oral\", \"tartar\" </strong>"
   ]
  },
  {
   "cell_type": "code",
   "execution_count": null,
   "metadata": {
    "colab": {
     "base_uri": "https://localhost:8080/"
    },
    "id": "w-7t2l8i_Khe",
    "outputId": "11333c2a-7421-40b7-e54c-34afbdbd6675"
   },
   "outputs": [],
   "source": [
    "#Analyse des valeurs manquantes\n",
    "df.isnull().sum()"
   ]
  },
  {
   "cell_type": "code",
   "execution_count": null,
   "metadata": {},
   "outputs": [],
   "source": [
    "plt.figure(figsize = (20,10))\n",
    "sns.heatmap(df.isna(), cbar = False)"
   ]
  },
  {
   "cell_type": "markdown",
   "metadata": {
    "id": "t8FmEhDQzxzD"
   },
   "source": [
    "Notre  dataset ne contient aucune valeur manquante.\n",
    "Ce qui est une tres bonne nouvelle car on aura pas a nettoyer nos donnees"
   ]
  },
  {
   "cell_type": "markdown",
   "metadata": {
    "id": "mmrI-0-tNeiV"
   },
   "source": [
    "<div style=\"width: 90%; margin: auto; background-color: #e74c3c; padding: 20px; border-radius: 0 12px 12px 12px; box-shadow: 0 4px 8px rgba(0, 0, 0, 0.3); color: #ffffff; text-align: center; font-style: italic;\" markdown=\"1\">\n",
    "    <span style=\"font-style: italic; font-size: 30px; font-weight: bold; \">DATA VISUALIZATION</span>\n",
    "</div>"
   ]
  },
  {
   "cell_type": "markdown",
   "metadata": {},
   "source": [
    "   ##                                             Data Cleaning\n",
    "   \n",
    "  Notre dataset etant deja \"propre\", on va juste eliminer la variable \"ID\" qui n'est pas utile"
   ]
  },
  {
   "cell_type": "code",
   "execution_count": null,
   "metadata": {},
   "outputs": [],
   "source": [
    "df.drop(columns=['ID'], axis =1,inplace=True)\n"
   ]
  },
  {
   "cell_type": "code",
   "execution_count": null,
   "metadata": {},
   "outputs": [],
   "source": [
    "# identification des features numeriques et categoriel\n",
    "\n",
    "numeric_cols = df.select_dtypes(include=np.number).columns.tolist()\n",
    "categorical_cols = df.select_dtypes('object').columns.tolist()"
   ]
  },
  {
   "cell_type": "code",
   "execution_count": null,
   "metadata": {
    "colab": {
     "base_uri": "https://localhost:8080/",
     "height": 835
    },
    "id": "0XUmIJmsAtwT",
    "outputId": "a579ec75-3cae-416b-ea7c-86df5b6f222f"
   },
   "outputs": [],
   "source": [
    "df.hist(bins=50,figsize=(20,15))\n",
    "plt.show()"
   ]
  },
  {
   "cell_type": "code",
   "execution_count": null,
   "metadata": {
    "colab": {
     "base_uri": "https://localhost:8080/",
     "height": 1000
    },
    "id": "iB8z5CFy2Drm",
    "outputId": "f3a9cd7b-0b53-4171-9fbb-5bd2b78d310f"
   },
   "outputs": [],
   "source": [
    "df_corr = df[numeric_cols].corr()\n",
    "plt.subplots(figsize=(18,18))\n",
    "sns.heatmap(df_corr,annot=True, square=True)"
   ]
  },
  {
   "cell_type": "markdown",
   "metadata": {
    "id": "8zyYS8Xa5CMi"
   },
   "source": [
    "Les données weight et waist sont les plus corrélées dans la dataset .En effet , une personne large pese forcement beaucoup"
   ]
  },
  {
   "cell_type": "code",
   "execution_count": null,
   "metadata": {},
   "outputs": [],
   "source": [
    "features_to_explore = ['hemoglobin','height(cm)','Cholesterol','LDL','HDL','triglyceride']\n",
    "selected_features_df = df[features_to_explore]\n",
    "\n",
    "sns.pairplot(selected_features_df)\n",
    "plt.show()"
   ]
  },
  {
   "cell_type": "markdown",
   "metadata": {},
   "source": []
  },
  {
   "cell_type": "code",
   "execution_count": null,
   "metadata": {
    "colab": {
     "base_uri": "https://localhost:8080/",
     "height": 576
    },
    "id": "E8d8-tuu2Dwt",
    "outputId": "8231405f-1dfb-4992-c91d-756c5480b0ea"
   },
   "outputs": [],
   "source": [
    "plt.figure(figsize = [7, 7], clear = True)\n",
    "df[\"smoking\"].value_counts().plot.pie(explode = [0, 0.15], autopct = '%1.3f%%', shadow = True);"
   ]
  },
  {
   "cell_type": "markdown",
   "metadata": {
    "id": "Nk2TLsUX5wFB"
   },
   "source": [
    "Il y'a 63.2% de fumeurs et 36.7% de non fumeurs . Les donées de la target sont désequilibrés ( Unbalanced dataset )"
   ]
  },
  {
   "cell_type": "code",
   "execution_count": null,
   "metadata": {
    "colab": {
     "base_uri": "https://localhost:8080/",
     "height": 576
    },
    "id": "_Rm-fDrg2D0p",
    "outputId": "1e9d3912-5606-4f37-81c6-aa7fea66fbdd"
   },
   "outputs": [],
   "source": [
    "plt.figure(figsize = [7, 7], clear = True)\n",
    "df[\"gender\"].value_counts().plot.pie(explode = [0, 0.15], autopct = '%1.2f%%', shadow = True);"
   ]
  },
  {
   "cell_type": "markdown",
   "metadata": {
    "id": "q6Hc157q6O7L"
   },
   "source": [
    "Il y'a plus d'échantillon male que femelle dans cette dataset"
   ]
  },
  {
   "cell_type": "code",
   "execution_count": null,
   "metadata": {
    "colab": {
     "base_uri": "https://localhost:8080/",
     "height": 622
    },
    "id": "l7yKmljE2D4-",
    "outputId": "16906dd9-77ab-43e8-9048-3bd18fe5d0e6"
   },
   "outputs": [],
   "source": [
    "fig, axes = plt.subplots(1, 2, figsize = (11, 7))\n",
    "axes = axes.flatten()\n",
    "\n",
    "\n",
    "sns.barplot(ax = axes[0],\n",
    "            x = df[\"tartar\"].value_counts().index,\n",
    "            y = df[\"tartar\"].value_counts(),\n",
    "            data = df, saturation = 1).set(title = \"Frequency of cases of tartar\");\n",
    "\n",
    "sns.barplot(ax = axes[1],\n",
    "            x = df[\"dental caries\"].value_counts().index,\n",
    "            y = df[\"dental caries\"].value_counts(),\n",
    "            data = df, saturation = 1).set(title = \"Frequency of cases of dental caries\");"
   ]
  },
  {
   "cell_type": "markdown",
   "metadata": {
    "id": "3Ee_fqO98BFK"
   },
   "source": [
    "On remarque bien qu'il y'a plus d'accumulation de bactéries dans les dents et des caries dentaires chez les fumeurs que les non fumeurs .\n",
    "\n",
    "On prévoit que les variables 'tartar' et 'dental caries' seront des facteurs décisives et important pour le modèle de classification  "
   ]
  },
  {
   "cell_type": "code",
   "execution_count": null,
   "metadata": {
    "colab": {
     "base_uri": "https://localhost:8080/",
     "height": 691
    },
    "id": "hrD-7Zz92D79",
    "outputId": "0a080770-7939-4d1f-b93f-baa59b87c887"
   },
   "outputs": [],
   "source": [
    "fig, axes = plt.subplots(2, 3, figsize = (25, 15))\n",
    "axes = axes.flatten()\n",
    "\n",
    "sns.scatterplot(ax = axes[0], x = \"weight(kg)\", y = \"hemoglobin\", hue = \"smoking\", size = \"gender\", sizes = (20, 100), legend=\"full\",\n",
    "                data = df).set(title = \"Relationship between 'weightkg' and 'hemoglobin'\");\n",
    "\n",
    "\n",
    "sns.scatterplot(ax = axes[1], x = \"weight(kg)\", y = \"Cholesterol\", hue = \"smoking\", size = \"gender\", sizes=(20, 100), legend=\"full\",\n",
    "                data = df).set(title = \"Relationship between 'weight_kg' and 'cholesterol'\");\n",
    "\n",
    "\n",
    "sns.scatterplot(ax = axes[2], x = \"weight(kg)\", y = \"Urine protein\", hue = \"smoking\", size = \"gender\", sizes=(20, 100), legend=\"full\",\n",
    "                data = df).set(title = \"Relationship between 'weight_kg' and 'urine_protein'\");\n",
    "\n",
    "\n",
    "sns.scatterplot(ax = axes[3], x = \"weight(kg)\", y = \"serum creatinine\", hue = \"smoking\", size = \"gender\", sizes=(20, 100), legend=\"full\",\n",
    "                data = df).set(title = \"Relationship between 'weight_kg' and 'serum_creatinine'\");\n",
    "\n",
    "\n",
    "sns.scatterplot(ax = axes[4], x = \"weight(kg)\", y = \"age\", hue = \"smoking\", size = \"gender\", sizes=(20, 100), legend=\"full\",\n",
    "                data = df).set(title = \"Relationship between 'weight_kg' and 'age'\");\n",
    "\n",
    "\n",
    "sns.scatterplot(ax = axes[5], x = \"weight(kg)\", y = \"fasting blood sugar\", hue = \"smoking\", size = \"gender\", sizes=(20, 100), legend=\"full\",\n",
    "                data = df).set(title = \"Relationship between 'weight(kg)' and 'fasting blood sugar'\");\n"
   ]
  },
  {
   "cell_type": "markdown",
   "metadata": {},
   "source": [
    "Ces tracés nous permettent de vérifier qu'il est possible d'implémenter un modéle de classification qui sera performant car on arrive géneralement à distinguer les zones de couleurs (target) sur chaque graphe"
   ]
  },
  {
   "cell_type": "code",
   "execution_count": null,
   "metadata": {
    "colab": {
     "base_uri": "https://localhost:8080/",
     "height": 1000
    },
    "id": "uVb-QTH52D-l",
    "outputId": "8729c046-c69a-4f0f-9709-cdd54ce75766"
   },
   "outputs": [],
   "source": [
    "sns.displot(data = df, x = \"age\", hue = \"smoking\", kind = \"hist\", height = 5, aspect = 1.5,\n",
    "    palette=\"ch:rot=-.25,hue=1,light=.50\").set(title =  \"density relationship between 'age' and 'smoking' variables\");\n",
    "\n",
    "sns.displot(data = df, x = \"systolic\", hue = \"smoking\", kind = \"kde\", height = 5, aspect = 1.5,\n",
    "    palette=\"ch:rot=-.25,hue=1,light=.50\").set(title = \"density relationship between 'systolic' and 'smoking' variables\");"
   ]
  },
  {
   "cell_type": "markdown",
   "metadata": {},
   "source": [
    "Analyse par rapport à l'age :\n",
    "\n",
    "- On remarque d'abord que pour toutes les tranches d'ages , il y'a plus de fumeurs que de non fumeurs \n",
    "- On arrive à détecter trois différents tranches ( clusters ) : Jeunes , adultes , vieux : Donc il serait possible d'affiner le modéle pour le permettre de cibler ces tranches la ( par exemple rajouter une colonne qui permet de spécifier ces tranches la et de lui donner un poids ou tronquer la dataset et établir un modéle sur chaque tranche ) \n",
    "\n",
    "Analyse par rapport à systolic ( pression artérielle ) :\n",
    "\n",
    "- On remarque un écart considérable des valeurs de pression entre les fumeurs et les non fumeurs : Donc , on prévoit que ce feature serait décisive et important pour la classification .\n"
   ]
  },
  {
   "cell_type": "code",
   "execution_count": null,
   "metadata": {
    "colab": {
     "base_uri": "https://localhost:8080/",
     "height": 1000
    },
    "id": "SOhyJw7MDOwB",
    "outputId": "4aeb8de6-5045-4a36-dfd1-06d4c7e428a9"
   },
   "outputs": [],
   "source": [
    "for column in numeric_cols:\n",
    "    plt.figure(figsize=(6, 4))\n",
    "    plt.boxplot(df[column])\n",
    "    plt.title(f'Boxplot de {column}')\n",
    "    plt.ylabel('Valeurs')\n",
    "    plt.show()"
   ]
  },
  {
   "cell_type": "code",
   "execution_count": null,
   "metadata": {
    "colab": {
     "base_uri": "https://localhost:8080/",
     "height": 954
    },
    "id": "8VzLUZb6HPu3",
    "outputId": "d1a60b41-4d8f-43a0-d24f-516ccd8f7bc3"
   },
   "outputs": [],
   "source": [
    "from sklearn.cluster import KMeans\n",
    "import matplotlib.pyplot as plt\n",
    "\n",
    "inertia = []\n",
    "\n",
    "for k in range(1, 11):\n",
    "    kmeans = KMeans(n_clusters=k)\n",
    "    kmeans.fit(df[numeric_cols])\n",
    "    inertia.append(kmeans.inertia_)\n",
    "\n",
    "plt.figure(figsize=(8, 6))\n",
    "plt.plot(range(1, 11), inertia, marker='o')\n",
    "plt.xlabel('Nombre de clusters')\n",
    "plt.ylabel(\"Inertie\")\n",
    "plt.title('Méthode du coude pour déterminer le nombre optimal de clusters')\n",
    "plt.show()"
   ]
  },
  {
   "cell_type": "markdown",
   "metadata": {
    "id": "zS7OvLVkIRJ2"
   },
   "source": [
    "On sait deja que le nombre de clusters sera égale à 2 car on est dans un cas de classification binaire . Cependant , on a preferé confirmer ca en utilisant la méthode du coude ( 'elbow' ) et on remarque une cohérence dans nos résultats"
   ]
  },
  {
   "cell_type": "markdown",
   "metadata": {
    "id": "YJFCUMerILvS"
   },
   "source": []
  },
  {
   "cell_type": "code",
   "execution_count": null,
   "metadata": {},
   "outputs": [],
   "source": [
    "num_clusters = 2\n",
    "\n",
    "kmeans = KMeans(n_clusters=num_clusters)\n",
    "kmeans.fit(df[numeric_cols])"
   ]
  },
  {
   "cell_type": "markdown",
   "metadata": {},
   "source": [
    "Réduction de dimension avec PCA"
   ]
  },
  {
   "cell_type": "code",
   "execution_count": null,
   "metadata": {},
   "outputs": [],
   "source": [
    "pca = PCA(n_components=2)\n",
    "reduced_df = pca.fit_transform(df[numeric_cols])"
   ]
  },
  {
   "cell_type": "markdown",
   "metadata": {},
   "source": [
    "Déterminons le nombre de dimensions optimal "
   ]
  },
  {
   "cell_type": "code",
   "execution_count": null,
   "metadata": {},
   "outputs": [],
   "source": [
    "pca = PCA().fit(df[numeric_cols])\n",
    "cumsum = np.cumsum(pca.explained_variance_ratio_)\n",
    "plt.plot(cumsum)\n",
    "plt.xlabel('number of components')\n",
    "plt.ylabel('cumulative explained variance')"
   ]
  },
  {
   "cell_type": "code",
   "execution_count": null,
   "metadata": {},
   "outputs": [],
   "source": [
    "d = np.argmax(cumsum >= 0.95) + 1\n",
    "d"
   ]
  },
  {
   "cell_type": "markdown",
   "metadata": {},
   "source": [
    "Pour préserver plus de 95% de richesse , une base de 7 élements est nécessaire "
   ]
  },
  {
   "cell_type": "code",
   "execution_count": null,
   "metadata": {
    "colab": {
     "base_uri": "https://localhost:8080/",
     "height": 622
    },
    "id": "ZZV5NwAuDO3o",
    "outputId": "0ba10744-3786-4e48-bd64-8d62f1885481"
   },
   "outputs": [],
   "source": [
    "plt.figure(figsize=(8, 6))\n",
    "for cluster in range(num_clusters):\n",
    "    plt.scatter(reduced_df[kmeans.labels_ == cluster][:, 0], reduced_df[kmeans.labels_ == cluster][:, 1], label=f'Cluster {cluster}')\n",
    "\n",
    "centroids = kmeans.cluster_centers_\n",
    "transformed_clusters = pca.fit_transform(centroids)\n",
    "\n",
    "\n",
    "plt.scatter(transformed_clusters[:, 0], transformed_clusters[:, 1], marker='*', s=200, c='black', label='Centroids')\n",
    "plt.title('Clusters après réduction de dimensions avec KMeans')\n",
    "plt.xlabel('Dimension 1')\n",
    "plt.ylabel('Dimension 2')\n",
    "plt.legend()\n",
    "plt.show()"
   ]
  },
  {
   "cell_type": "markdown",
   "metadata": {},
   "source": [
    "Avec une préservation de 80% de richesse (2 dimensions) , ce qui est acceptable , on arrive à bien distinguer les clusters .\n",
    "Nos données sont donc prés à etre utilisés pour les modéles de ML"
   ]
  },
  {
   "cell_type": "markdown",
   "metadata": {
    "id": "XFk_vaAwJHvy"
   },
   "source": []
  },
  {
   "cell_type": "markdown",
   "metadata": {},
   "source": [
    "<div style=\"width: 90%; margin: auto; background-color: #e74c3c; padding: 20px; border-radius: 0 12px 12px 12px; box-shadow: 0 4px 8px rgba(0, 0, 0, 0.3); color: #ffffff; text-align: center; font-style: italic;\" markdown=\"1\">\n",
    "    <span style=\"font-style: italic; font-size: 30px; font-weight: bold; \">DATA PROCESSING</span>\n",
    "</div>"
   ]
  },
  {
   "cell_type": "markdown",
   "metadata": {},
   "source": [
    "Détection et élimination d'outliers"
   ]
  },
  {
   "cell_type": "code",
   "execution_count": null,
   "metadata": {},
   "outputs": [],
   "source": [
    "from collections import Counter\n",
    "import numpy as np\n",
    "\n",
    "def outlier_detection(df, n, columns):\n",
    "    rows = []\n",
    "    will_drop_train = []\n",
    "    for col in columns:\n",
    "        Q1 = np.nanpercentile(df[col], 25)\n",
    "        Q3 = np.nanpercentile(df[col], 75)\n",
    "        IQR = Q3 - Q1\n",
    "        outlier_point = 1.5 * IQR\n",
    "        rows.extend(df[(df[col] < Q1 - outlier_point)|(df[col] > Q3 + outlier_point)].index)\n",
    "    for r, c in Counter(rows).items():\n",
    "        if c >= n:\n",
    "            will_drop_train.append(r)\n",
    "    return will_drop_train\n",
    "\n",
    "will_drop_train = outlier_detection(df, 5, df.select_dtypes([\"float\", \"int\"]).columns)\n",
    "will_drop_train[0:4]"
   ]
  },
  {
   "cell_type": "code",
   "execution_count": null,
   "metadata": {},
   "outputs": [],
   "source": [
    "df.drop(will_drop_train, inplace = True, axis = 0)"
   ]
  },
  {
   "cell_type": "markdown",
   "metadata": {},
   "source": [
    "Transformation de données catégoriques en valeurs numériques avec LabelEncoder"
   ]
  },
  {
   "cell_type": "code",
   "execution_count": null,
   "metadata": {},
   "outputs": [],
   "source": [
    "lbe = LabelEncoder()\n",
    "lbe.fit_transform(df[\"gender\"])\n",
    "df[\"gender\"] = lbe.fit_transform(df[\"gender\"])\n",
    "\n",
    "lbe = LabelEncoder()\n",
    "lbe.fit_transform(df[\"tartar\"])\n",
    "df[\"tartar\"] = lbe.fit_transform(df[\"tartar\"])\n",
    "\n",
    "lbe = LabelEncoder()\n",
    "lbe.fit_transform(df[\"oral\"])\n",
    "df[\"oral\"] = lbe.fit_transform(df[\"oral\"])"
   ]
  },
  {
   "cell_type": "markdown",
   "metadata": {},
   "source": [
    "Sélection de la target et des features"
   ]
  },
  {
   "cell_type": "code",
   "execution_count": null,
   "metadata": {},
   "outputs": [],
   "source": [
    "#target\n",
    "y = df[\"smoking\"]\n",
    "\n",
    "#features\n",
    "x = df.drop(\"smoking\", axis = 1)"
   ]
  },
  {
   "cell_type": "markdown",
   "metadata": {},
   "source": [
    "Division des données en données d'entrainement ( train_set ) et données de test (test_set)"
   ]
  },
  {
   "cell_type": "code",
   "execution_count": null,
   "metadata": {},
   "outputs": [],
   "source": [
    "x_train, x_test, y_train, y_test = train_test_split(x, y,\n",
    "                                                    test_size = 0.10,\n",
    "                                                    shuffle = True,\n",
    "                                                    random_state = 1)"
   ]
  },
  {
   "cell_type": "markdown",
   "metadata": {},
   "source": [
    "Normalisation des données avec MinMaxScaler"
   ]
  },
  {
   "cell_type": "code",
   "execution_count": null,
   "metadata": {},
   "outputs": [],
   "source": [
    "scaler = MinMaxScaler()\n",
    "scaler.fit(x_train)\n",
    "x_train = scaler.transform(x_train)\n",
    "x_test = scaler.transform(x_test)"
   ]
  },
  {
   "cell_type": "code",
   "execution_count": null,
   "metadata": {},
   "outputs": [],
   "source": [
    "rf_model = RandomForestClassifier(n_estimators = 2000)\n",
    "rf_model.fit(x_train, y_train)"
   ]
  },
  {
   "cell_type": "code",
   "execution_count": null,
   "metadata": {},
   "outputs": [],
   "source": [
    "y_pred = rf_model.predict(x_test)\n",
    "accuracy_score(y_test, y_pred)"
   ]
  },
  {
   "cell_type": "code",
   "execution_count": null,
   "metadata": {},
   "outputs": [],
   "source": []
  }
 ],
 "metadata": {
  "colab": {
   "provenance": [],
   "toc_visible": true
  },
  "kernelspec": {
   "display_name": "Python 3 (ipykernel)",
   "language": "python",
   "name": "python3"
  },
  "language_info": {
   "codemirror_mode": {
    "name": "ipython",
    "version": 3
   },
   "file_extension": ".py",
   "mimetype": "text/x-python",
   "name": "python",
   "nbconvert_exporter": "python",
   "pygments_lexer": "ipython3",
   "version": "3.11.5"
  }
 },
 "nbformat": 4,
 "nbformat_minor": 1
}
